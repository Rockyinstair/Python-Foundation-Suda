{
 "cells": [
  {
   "cell_type": "code",
   "execution_count": 1,
   "metadata": {},
   "outputs": [],
   "source": [
    "import queue\n",
    "class MaxQueue2:\n",
    "    \"\"\"\n",
    "    作者：LeetCode-Solution\n",
    "    链接：https://leetcode-cn.com/problems/dui-lie-de-zui-da-zhi-lcof/solution/mian-shi-ti-59-ii-dui-lie-de-zui-da-zhi-by-leetcod/\n",
    "    来源：力扣（LeetCode）\n",
    "    著作权归作者所有。商业转载请联系作者获得授权，非商业转载请注明出处。\n",
    "    \"\"\"\n",
    "\n",
    "    def __init__(self):\n",
    "        self.deque = queue.deque()\n",
    "        self.queue = queue.Queue()\n",
    "\n",
    "    def max_value(self) -> int:\n",
    "        return self.deque[0] if self.deque else -1\n",
    "\n",
    "\n",
    "    def push_back(self, value: int) -> None:\n",
    "        while self.deque and self.deque[-1] < value:\n",
    "            self.deque.pop()\n",
    "        self.deque.append(value)\n",
    "        self.queue.put(value)\n",
    "\n",
    "    def pop_front(self) -> int:\n",
    "        if not self.deque:\n",
    "            return -1\n",
    "        ans = self.queue.get()\n",
    "        if ans == self.deque[0]:\n",
    "            self.deque.popleft()\n",
    "        return ans\n"
   ]
  },
  {
   "cell_type": "code",
   "execution_count": 2,
   "metadata": {},
   "outputs": [],
   "source": [
    "Q = MaxQueue2()"
   ]
  },
  {
   "cell_type": "code",
   "execution_count": 22,
   "metadata": {},
   "outputs": [
    {
     "data": {
      "text/plain": [
       "2"
      ]
     },
     "execution_count": 22,
     "metadata": {},
     "output_type": "execute_result"
    }
   ],
   "source": [
    "Q.max_value()"
   ]
  },
  {
   "cell_type": "code",
   "execution_count": 24,
   "metadata": {},
   "outputs": [],
   "source": [
    "Q.push_back(1)"
   ]
  },
  {
   "cell_type": "code",
   "execution_count": 23,
   "metadata": {},
   "outputs": [
    {
     "data": {
      "text/plain": [
       "1"
      ]
     },
     "execution_count": 23,
     "metadata": {},
     "output_type": "execute_result"
    }
   ],
   "source": [
    "Q.pop_front()"
   ]
  },
  {
   "cell_type": "code",
   "execution_count": 25,
   "metadata": {},
   "outputs": [
    {
     "name": "stdout",
     "output_type": "stream",
     "text": [
      "deque([2, 1]) deque([1, 1, 2, 1])\n"
     ]
    }
   ],
   "source": [
    "print(Q.deque, Q.queue.queue)"
   ]
  }
 ],
 "metadata": {
  "kernelspec": {
   "display_name": "Python 3",
   "language": "python",
   "name": "python3"
  },
  "language_info": {
   "codemirror_mode": {
    "name": "ipython",
    "version": 3
   },
   "file_extension": ".py",
   "mimetype": "text/x-python",
   "name": "python",
   "nbconvert_exporter": "python",
   "pygments_lexer": "ipython3",
   "version": "3.7.8"
  }
 },
 "nbformat": 4,
 "nbformat_minor": 4
}
